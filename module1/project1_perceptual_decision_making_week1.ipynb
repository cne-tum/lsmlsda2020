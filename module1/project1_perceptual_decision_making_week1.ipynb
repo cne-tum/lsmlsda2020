{
 "cells": [
  {
   "cell_type": "markdown",
   "metadata": {},
   "source": [
    "# Perceptual Decision Making (Wong & Wang) week 1\n",
    "\n",
    "\n",
    "- In this exercise we study decision making in a network of competing populations of spiking neurons. The network has been proposed by Wong and Wang in 2006 [1] as a model of decision making in a visual motion detection task. The decision making task and the network are described in the [Neuronal Dynamics by Gerstner - Chapter 16](http://neuronaldynamics.epfl.ch/online/Ch16.html) and in the original publication (see location-references [1]). Read the introduction of chapter [16, Competing populations and decision making](http://neuronaldynamics.epfl.ch/online/Ch16.html). To understand the mechanism of decision making in a network, read [16.2, Competition through common inhibition](http://neuronaldynamics.epfl.ch/online/Ch16.S2.html).\n",
    "\n",
    "\n",
    "- The exercise is adapted from [here](https://neuronaldynamics-exercises.readthedocs.io/en/latest/exercises/perceptual-decision-making.html).\n",
    "\n",
    "<img src=https://neuronaldynamics-exercises.readthedocs.io/en/latest/_images/DecisionMaking_PhasePlane_3.png width=800>\n",
    "<i><center>Decision Space. Each point represents the firing rates of the two subpopulations “Left” and “Right” at a given point in time (averaged over a short time window). The color encodes time. In this example, the decision “Right” is made after about 900 milliseconds.</center></i>\n",
    "\n",
    "To get a better understanding of the network dynamics, we recommend to solve the exercise spatial-working-memory.\n",
    "\n",
    "The parameters of our implementation differ from the original paper. In particular, the default network simulates only 480 spiking neurons which leads to relatively short simulation time even on less powerful computers.\n",
    "\n",
    "### How to solve the exercises\n",
    "This weeks's project consists of two exercises. Some of them are solved by writing code and producing plots, so you solve them by just doing that. Other exercises are questions about the behavior of the code or the model, e.g., you will have to interpret a plot you just generated. \n",
    "\n",
    "For those exercises that require you to write text or math, please write in the notebook cells we provide below the exercise, and please write in markdown format (you can use LaTeX in markdown cells). You enter the cells like code cells with a \"double click\" or \"enter\". \n",
    "\n",
    "You can commit as many times as you want, e.g., after every sub-exercise, or just once when you are done. The final commit before the deadline will be your submission.\n",
    "\n",
    "**References**\n",
    "\n",
    "[1] Wong, K.-F. & Wang, X.-J. A Recurrent Network Mechanism of Time Integration in Perceptual Decisions. J. Neurosci. 26, 1314–1328 (2006).\n",
    "\n",
    "[2] Parts of this exercise and parts of the implementation are inspired by material from *Stanford University, BIOE 332: Large-Scale Neural Modeling, Kwabena Boahen & Tatiana Engel, 2013*, online available.\n"
   ]
  },
  {
   "cell_type": "code",
   "execution_count": null,
   "metadata": {},
   "outputs": [],
   "source": [
    "import brian2 as b2\n",
    "from neurodynex.tools import plot_tools\n",
    "from neurodynex.competing_populations import decision_making\n",
    "import matplotlib.pyplot as plt\n",
    "import numpy as np\n",
    "\n",
    "# XXX: Comment out the following line if you have issues with your cython compilation: \n",
    "# e.g., DistutilsExecError, CompilerError. \n",
    "# This will let you simulate in pure numpy, which is much slower but doesnt require cython.\n",
    "# b2.set_device('cpp_standalone')"
   ]
  },
  {
   "cell_type": "markdown",
   "metadata": {},
   "source": [
    "## Exercise 1 - The Network Implementation\n",
    "\n",
    "Before we can analyse the decision making process and the simulation results, we first need to understand the structure of the network and how we can access the state variables of the respective subpopulations.\n",
    "\n",
    "<img src=https://neuronaldynamics-exercises.readthedocs.io/en/latest/_images/DecisionMaking_NetworkStructureAll.png width=600>\n",
    "<i><center>Network structure. The excitatory population is divided into three subpopulations, shown in the next figure.</center></i>\n",
    "\n",
    "<img src=https://neuronaldynamics-exercises.readthedocs.io/en/latest/_images/DecisionMaking_NetworkStructureDetail.png width=600>\n",
    "<i><center>Structure within the excitatory population. The “Left” and “Right” subpopulations have strong recurrent weights ($w^+>w^0$) and weak projections to the other ($w^−<w^0$). All neurons receive a poisson input from an external source. Additionally, the neurons in the “Left” subpopulation receive poisson input with some rate $\\nu_\\text{Left}$; the “Right” subpopulation receives a poisson input with a different rate $\\nu_\\text{Right}$.</center></i>\n"
   ]
  },
  {
   "cell_type": "markdown",
   "metadata": {},
   "source": [
    "### Exercise 1.1: Understanding Brian2 Monitors\n",
    "\n",
    "The network shown in the figure above is implemented in Brian2 in the function `competing_populations.decision_making.sim_decision_making_network`. Each subpopulation is a [Brian2 NeuronGroup](http://brian2.readthedocs.io/en/stable/user/models.html). Look at the source code of the function `sim_decision_making_network` to answer the following questions:\n",
    "\n",
    "1.   For each of the four subpopulations, find the variable name of the corresponding [NeuronGroup](http://brian2.readthedocs.io/en/stable/user/models.html). \n",
    "2.   Each NeuronGroup is monitored with a [PopulationRateMonitor](http://brian2.readthedocs.io/en/stable/user/recording.html), a [SpikeMonitor](http://brian2.readthedocs.io/en/stable/user/recording.html), and a [StateMonitor](http://brian2.readthedocs.io/en/stable/user/recording.html). Find the variable names for those monitors. Have a look at the [Brian2 documentation](http://brian2.readthedocs.io/en/stable/user/recording.html) if you are not familiar with the concept of monitors.\n",
    "3.   Which state variable of the neurons is recorded by the [StateMonitor](http://brian2.readthedocs.io/en/stable/user/recording.html)?"
   ]
  },
  {
   "cell_type": "markdown",
   "metadata": {},
   "source": [
    "### Answers Exercise 1.1: \n",
    "1) \n",
    "\n",
    "2) \n",
    "\n",
    "3) "
   ]
  },
  {
   "cell_type": "markdown",
   "metadata": {},
   "source": [
    "### Exercise 1.2. Accessing a dictionary to plot the population rates.\n",
    "\n",
    "The monitors are returned in a [Python dictionary](https://docs.python.org/3/tutorial/datastructures.html?highlight=dictionary#dictionaries) providing access to objects by name. Read the [Python documentation](https://docs.python.org/3/tutorial/datastructures.html?highlight=dictionary#dictionaries) and look at the code block below or the function `competing_populations.decision_making.getting_started` to learn how dictionaries are used."
   ]
  },
  {
   "cell_type": "markdown",
   "metadata": {},
   "source": [
    "1.   The two code blocks below run the simulation for 800ms and then plot some of the results. Extend the plotting code such that it plots the traces for all **four** subpopulations. Make sure to adjust the plot titles accordingly. \n",
    "\n",
    "2. Execute both cells to run simulation and plotting."
   ]
  },
  {
   "cell_type": "code",
   "execution_count": null,
   "metadata": {},
   "outputs": [],
   "source": [
    "results = decision_making.sim_decision_making_network(t_stimulus_start= 50. * b2.ms,\n",
    "                                                      coherence_level=0.6,\n",
    "                                                      max_sim_time=800. * b2.ms)"
   ]
  },
  {
   "cell_type": "code",
   "execution_count": null,
   "metadata": {},
   "outputs": [],
   "source": [
    "avg_window_width = 50.1 * b2.ms\n",
    "\n",
    "plot_tools.plot_network_activity(results[\"rate_monitor_A\"],\n",
    "                                 results[\"spike_monitor_A\"],\n",
    "                                 results[\"voltage_monitor_A\"],\n",
    "                                 t_min=0. * b2.ms,\n",
    "                                 avg_window_width=avg_window_width,\n",
    "                                 sup_title=\"Left\")\n",
    "plot_tools.plot_network_activity(results[\"rate_monitor_B\"],\n",
    "                                 results[\"spike_monitor_B\"],\n",
    "                                 results[\"voltage_monitor_B\"],\n",
    "                                 t_min=0. * b2.ms,\n",
    "                                 avg_window_width=avg_window_width,\n",
    "                                 sup_title=\"Right\")\n",
    "\n",
    "# XXX: Your plotting code for exercise 1.2.1 goes here:\n",
    "# ...\n",
    "\n",
    "plt.show()"
   ]
  },
  {
   "cell_type": "markdown",
   "metadata": {},
   "source": [
    "3.   What are the \"typical\" population rates for each of the four populations towards the end of the simulation? Can you think for explanations for that? "
   ]
  },
  {
   "cell_type": "markdown",
   "metadata": {},
   "source": [
    "4.   Without running the simulation again, but by using the same `results` [dictionary](https://docs.python.org/3/tutorial/datastructures.html?highlight=dictionary#dictionaries), plot the rates using different values for `avg_window_width`, say `0.1, 10.1, 100.1, 200.1`."
   ]
  },
  {
   "cell_type": "markdown",
   "metadata": {},
   "source": [
    "5.   Interpret the effect of a very short and a very long averaging window."
   ]
  },
  {
   "cell_type": "markdown",
   "metadata": {},
   "source": [
    "6.   Find a value of `avg_window_width` for which you find the population activity plots to give meaningful rates."
   ]
  },
  {
   "cell_type": "markdown",
   "metadata": {},
   "source": [
    "Remark: The parameter `avg_window_width` is passed to the function [PopulationRateMonitor.smooth\\_rate()](http://brian2.readthedocs.io/en/2.0.1/user/recording.html#recording-population-rates) . This function is useful to solve one of the next exercises.\n",
    "\n",
    "```Python\n",
    "avg_window_width = 123*b2.ms\n",
    "sr = results[\"rate_monitor_A\"].smooth_rate(window=\"flat\", width=avg_window_width)/b2.Hz\n",
    "```"
   ]
  },
  {
   "cell_type": "markdown",
   "metadata": {},
   "source": [
    "### Answers Exercise 1.2: \n",
    "3) \n",
    "\n",
    "5) \n",
    "\n",
    "6)"
   ]
  },
  {
   "cell_type": "markdown",
   "metadata": {},
   "source": [
    "## Exercise 2 - Stimulating the Decision Making Circuit\n",
    "\n",
    "The input stimulus is implemented by two inhomogenous Poisson processes: The subpopulation \"Left\" and \"Right\" receive input from two different PoissonGroups (see Figure \"Network Structure\"). The input has a \"coherence level\" $c$ and is noisy. We have implemented this in the following way: every 30ms, the firing rates $\\nu_{\\text{left}}$ and $\\nu_{\\text{right}}$ of each of the two PoissonGroups are drawn from a normal distribution:\n",
    "\n",
    "\\begin{align}\n",
    "\\nu_{\\text{left}} &\\sim& \\mathcal{N}(\\mu_\\text{left},\\sigma^{2}) \\\\\n",
    "\\nu_{\\text{right}} &\\sim& \\mathcal{N}(\\mu_\\text{right},\\sigma^{2}) \\\\\n",
    "\\mu_{\\text{left}} &=& \\mu_0  (0.5 + 0.5c) \\\\\n",
    "\\mu_{\\text{right}} &=& \\mu_0  (0.5 - 0.5c) \\\\\n",
    "c &\\in& [-1, +1]\n",
    "\\end{align}\n",
    "\n",
    "The coherence level $c$, the maximum mean $\\mu_0$ and the standard deviation $\\sigma$ are parameters of `sim_decision_making_network()`."
   ]
  },
  {
   "cell_type": "markdown",
   "metadata": {},
   "source": [
    "### Exercise 2.1 Coherence Level\n",
    "\n",
    "1.   From the equation above, express the difference $\\mu_{\\text{left}}-\\mu_{\\text{right}}$  in terms of $\\mu_0$ and $c$.\n",
    "2.   Find the distribution of the difference $\\nu_{\\text{left}}-\\nu_{\\text{right}}$. Hint: the difference of two Gaussian distributions is another Gaussian distribution.\n",
    "\n",
    "Now look at the documentation of the function `sim_decision_making_network()` and find the default values of  $\\mu_0$ and $\\sigma$. Using those values, answer the following questions:\n",
    "\n",
    "3.   What are the mean firing rates (in Hz) $\\mu_\\text{left}$ and $\\mu_\\text{right}$ for the coherence level $c= -0.2$?\n",
    "4.   For $c= -0.2$, how does the difference $\\mu_{\\text{left}}-\\mu_{\\text{right}}$ compare to the variance of $\\nu_{\\text{left}}-\\nu_{\\text{right}}$."
   ]
  },
  {
   "cell_type": "markdown",
   "metadata": {},
   "source": [
    "### Answers Exercise 2.1\n",
    "1) You should use LaTeX here. E.g., \n",
    "$$\n",
    "\\begin{align} \n",
    "\\text{your derivation}\n",
    "\\end{align}\n",
    "$$\n",
    "\n",
    "2)\n",
    "\n",
    "3)\n",
    "\n",
    "4)"
   ]
  },
  {
   "cell_type": "markdown",
   "metadata": {},
   "source": [
    "### Exercise 2.2 Input stimuli with different coherence levels.\n",
    "\n",
    "Run a few simulations with `c=-0.1` and `c=+0.6`. Plot the network activity."
   ]
  },
  {
   "cell_type": "markdown",
   "metadata": {},
   "source": [
    "1.  Does the network always make the correct decision?\n",
    "2.  Look at the population rates and estimate how long it takes the network to make a decision."
   ]
  },
  {
   "cell_type": "markdown",
   "metadata": {},
   "source": [
    "### Answers Exercise 2.2\n",
    "1)\n",
    "\n",
    "2)"
   ]
  },
  {
   "cell_type": "code",
   "execution_count": null,
   "metadata": {},
   "outputs": [],
   "source": []
  }
 ],
 "metadata": {
  "kernelspec": {
   "display_name": "lsmlsda",
   "language": "python",
   "name": "lsmlsda"
  },
  "language_info": {
   "codemirror_mode": {
    "name": "ipython",
    "version": 3
   },
   "file_extension": ".py",
   "mimetype": "text/x-python",
   "name": "python",
   "nbconvert_exporter": "python",
   "pygments_lexer": "ipython3",
   "version": "3.5.6"
  }
 },
 "nbformat": 4,
 "nbformat_minor": 2
}

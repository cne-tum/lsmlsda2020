{
 "cells": [
  {
   "cell_type": "code",
   "execution_count": 1,
   "metadata": {},
   "outputs": [],
   "source": [
    " # if plotting does not work, change it into %matplotlib inline from %matplotlib widget\n",
    "%matplotlib widget"
   ]
  },
  {
   "cell_type": "code",
   "execution_count": 2,
   "metadata": {},
   "outputs": [],
   "source": [
    "import numpy as np\n",
    "import matplotlib.pyplot as plt\n",
    "from utilities import display_array, normalise_clip\n",
    "import flammkuchen as fl"
   ]
  },
  {
   "cell_type": "markdown",
   "metadata": {},
   "source": [
    "**What is the package flammkuchen?**"
   ]
  },
  {
   "cell_type": "markdown",
   "metadata": {},
   "source": [
    "# Load and display the data"
   ]
  },
  {
   "cell_type": "code",
   "execution_count": 3,
   "metadata": {},
   "outputs": [
    {
     "data": {
      "application/vnd.jupyter.widget-view+json": {
       "model_id": "1a7e61f73e8c45e08aa37889fb4e52fb",
       "version_major": 2,
       "version_minor": 0
      },
      "text/plain": [
       "interactive(children=(IntSlider(value=279, description='t', max=559), IntSlider(value=1, description='z', max=…"
      ]
     },
     "metadata": {},
     "output_type": "display_data"
    }
   ],
   "source": [
    "fps = 3\n",
    "# Change this to the folder where you have the data\n",
    "data_path = r\"C:\\Users\\rportugues\\tum_imaging_analysis_course\\2p_nuclear\\imaging.h5\"\n",
    "ar_imaging = fl.load(data_path)\n",
    "display_array(ar_imaging);"
   ]
  },
  {
   "cell_type": "markdown",
   "metadata": {},
   "source": [
    "**Create an image of the anatomy by averaging in time and call it *anatomy***"
   ]
  },
  {
   "cell_type": "code",
   "execution_count": 4,
   "metadata": {},
   "outputs": [],
   "source": []
  },
  {
   "cell_type": "code",
   "execution_count": 5,
   "metadata": {},
   "outputs": [],
   "source": [
    "# normalize the data\n",
    "anatomy_normalized = normalise_clip(anatomy, wins_min=5, wins_max=99.5)"
   ]
  },
  {
   "cell_type": "code",
   "execution_count": 6,
   "metadata": {},
   "outputs": [
    {
     "data": {
      "application/vnd.jupyter.widget-view+json": {
       "model_id": "9d44c380c5034663abf05c5b2b1dab99",
       "version_major": 2,
       "version_minor": 0
      },
      "text/plain": [
       "interactive(children=(IntSlider(value=1, description='i', max=2), Output()), _dom_classes=('widget-interact',)…"
      ]
     },
     "metadata": {},
     "output_type": "display_data"
    },
    {
     "data": {
      "text/plain": [
       "<function utilities.display_array.<locals>.browse(i: (0, 2))>"
      ]
     },
     "execution_count": 6,
     "metadata": {},
     "output_type": "execute_result"
    }
   ],
   "source": [
    "display_array(anatomy_normalized)"
   ]
  },
  {
   "cell_type": "markdown",
   "metadata": {},
   "source": [
    "**Design a kernel similar to a cell for cross correlation. For indicators localised to the nucleus, like the one in this dataset, a gaussian might be a good fit.**"
   ]
  },
  {
   "cell_type": "code",
   "execution_count": 25,
   "metadata": {},
   "outputs": [
    {
     "data": {
      "application/vnd.jupyter.widget-view+json": {
       "model_id": "72434aa427b44da2b449cec51843712e",
       "version_major": 2,
       "version_minor": 0
      },
      "text/plain": [
       "Canvas(toolbar=Toolbar(toolitems=[('Home', 'Reset original view', 'home', 'home'), ('Back', 'Back to previous …"
      ]
     },
     "metadata": {},
     "output_type": "display_data"
    },
    {
     "data": {
      "text/plain": [
       "<matplotlib.image.AxesImage at 0x1acab6f2c08>"
      ]
     },
     "execution_count": 25,
     "metadata": {},
     "output_type": "execute_result"
    }
   ],
   "source": [
    "# creating a kernel simi for cross correlation \n",
    "# we are using a nuclear localized calcium indicator, so a good shape for that is a gaussian. \n",
    "import scipy \n",
    "\n",
    "shape = (12, 12)\n",
    "m,n = [(ss-1.)/2. for ss in shape]\n",
    "y,x = np.ogrid[-m:m+1,-n:n+1]\n",
    "sigma = 1.5\n",
    "h = np.exp( -(x**2 + y**2) / (2.*sigma**2) )\n",
    "h /= np.sum(h)\n",
    "\n",
    "#cell_pattern_1 = anat_clean[0]\n",
    "#plt.imshow(cell_pattern_1)\n",
    "plt.figure()\n",
    "plt.imshow(h)"
   ]
  },
  {
   "cell_type": "markdown",
   "metadata": {},
   "source": [
    "**Convolve the kernel with the image. The correlate2d function from scipy.signal works for that**"
   ]
  },
  {
   "cell_type": "code",
   "execution_count": 28,
   "metadata": {},
   "outputs": [
    {
     "data": {
      "application/vnd.jupyter.widget-view+json": {
       "model_id": "d5f44be37ca34fc8bcea5bdb900aa5be",
       "version_major": 2,
       "version_minor": 0
      },
      "text/plain": [
       "interactive(children=(IntSlider(value=1, description='i', max=2), Output()), _dom_classes=('widget-interact',)…"
      ]
     },
     "metadata": {},
     "output_type": "display_data"
    },
    {
     "data": {
      "text/plain": [
       "<function utilities.display_array.<locals>.browse(i: (0, 2))>"
      ]
     },
     "execution_count": 28,
     "metadata": {},
     "output_type": "execute_result"
    }
   ],
   "source": [
    "# cross-correlation with the cell pattern in all planes\n",
    "from scipy.signal import correlate2d\n",
    "\n",
    "anatomy_corr = np.zeros_like(anatomy_normalized)\n",
    "for i in range(3):\n",
    "    #print(np.shape(h))\n",
    "    #print(np.shape(anat_clean[i]))\n",
    "    anatomy_corr[i] = correlate2d(anatomy_normalized[i], h, mode='same')\n",
    "\n",
    "display_array(np.concatenate([anatomy_corr, anatomy_normalized], 2))"
   ]
  },
  {
   "cell_type": "markdown",
   "metadata": {},
   "source": [
    "**Use local maxima to detect potential ROIs. Save them in a structure** coords[0:2][0:N-1,0:1] **where the first index labels the plane, the second index labels the number of the ROI within the plane, and the third index labels the X or Y coordinate. Use a 3D maximum and a relative threshold of 0.5. Plot the location of the maxima you found superimposed on the anatomy (for one plane) save the figure and submit it.** "
   ]
  },
  {
   "cell_type": "code",
   "execution_count": null,
   "metadata": {},
   "outputs": [],
   "source": [
    "from skimage.feature import peak_local_max"
   ]
  },
  {
   "cell_type": "code",
   "execution_count": null,
   "metadata": {},
   "outputs": [],
   "source": []
  },
  {
   "cell_type": "code",
   "execution_count": 10,
   "metadata": {},
   "outputs": [],
   "source": [
    "fig.savefig(\"MY_template_match.png\")"
   ]
  },
  {
   "cell_type": "markdown",
   "metadata": {},
   "source": [
    "**You should get something like:**\n",
    "\n",
    "![](template_match.png)"
   ]
  },
  {
   "cell_type": "markdown",
   "metadata": {},
   "source": [
    "## Extract traces around the points"
   ]
  },
  {
   "cell_type": "markdown",
   "metadata": {},
   "source": [
    "**You can loop around the maxima coordinates and take a small rectangular window around it. For better results use a gaussian kernel. Save the traces of each cell in a matrix called** traces **that has in each row the fluorescence time series for one cell. The matrix will therefore be N x T, where N is the number of cells and T the number of timepoints.**"
   ]
  },
  {
   "cell_type": "code",
   "execution_count": 11,
   "metadata": {},
   "outputs": [],
   "source": []
  },
  {
   "cell_type": "markdown",
   "metadata": {},
   "source": [
    "**You should get an array of traces [n_cells, n_timepoints]**"
   ]
  },
  {
   "cell_type": "code",
   "execution_count": 12,
   "metadata": {},
   "outputs": [],
   "source": [
    "time = np.arange(traces.shape[1])/fps"
   ]
  },
  {
   "cell_type": "markdown",
   "metadata": {},
   "source": [
    "**Instead of plotting raw fluorescence or delta fluorescence / fluorescence [df/f], we will plot the normalized fluorescence or \"Zscored\" fluorescence. You can easily compute this using:**  "
   ]
  },
  {
   "cell_type": "code",
   "execution_count": 29,
   "metadata": {},
   "outputs": [],
   "source": [
    "from scipy.stats import zscore"
   ]
  },
  {
   "cell_type": "code",
   "execution_count": null,
   "metadata": {},
   "outputs": [],
   "source": []
  },
  {
   "cell_type": "markdown",
   "metadata": {},
   "source": [
    "**Save the image and submit it.**"
   ]
  },
  {
   "cell_type": "code",
   "execution_count": 14,
   "metadata": {},
   "outputs": [],
   "source": [
    "fig.savefig(\"MY_traces_anat_1.png\")"
   ]
  },
  {
   "cell_type": "markdown",
   "metadata": {},
   "source": [
    "**The result should look a bit like this:**\n",
    "\n",
    "![](traces_anat_1.png)"
   ]
  },
  {
   "cell_type": "markdown",
   "metadata": {},
   "source": [
    "**Use ipywidgets interact to browse through the individual traces**"
   ]
  },
  {
   "cell_type": "code",
   "execution_count": 15,
   "metadata": {},
   "outputs": [],
   "source": [
    "from ipywidgets import interact"
   ]
  },
  {
   "cell_type": "code",
   "execution_count": 16,
   "metadata": {},
   "outputs": [
    {
     "data": {
      "application/vnd.jupyter.widget-view+json": {
       "model_id": "4d303e2fda88434a9540580dc7af9971",
       "version_major": 2,
       "version_minor": 0
      },
      "text/plain": [
       "Canvas(toolbar=Toolbar(toolitems=[('Home', 'Reset original view', 'home', 'home'), ('Back', 'Back to previous …"
      ]
     },
     "metadata": {},
     "output_type": "display_data"
    },
    {
     "data": {
      "application/vnd.jupyter.widget-view+json": {
       "model_id": "9feaf1d82c1740399e3a7fb425778207",
       "version_major": 2,
       "version_minor": 0
      },
      "text/plain": [
       "interactive(children=(IntSlider(value=32, description='i_trace', max=64), Output()), _dom_classes=('widget-int…"
      ]
     },
     "metadata": {},
     "output_type": "display_data"
    }
   ],
   "source": [
    "fig, ax = plt.subplots()\n",
    "@interact\n",
    "def browse_trace(i_trace:(0, traces.shape[0]-1)):\n",
    "    ax.clear()\n",
    "    ax.plot(time, traces[i_trace])"
   ]
  },
  {
   "cell_type": "markdown",
   "metadata": {},
   "source": [
    "## Correcting motion artifacts within a plane using two-dimensional cross-correlation\n",
    "**Now we will load a tiff stack. This is a file that contains a set of images. It is therefore a three dimensional array (Z,X,Y) or (T,X,Y) depending on whether the different images are from different planes or the same plane at different times.**"
   ]
  },
  {
   "cell_type": "code",
   "execution_count": 18,
   "metadata": {},
   "outputs": [
    {
     "data": {
      "text/plain": [
       "(1750, 400, 414)"
      ]
     },
     "execution_count": 18,
     "metadata": {},
     "output_type": "execute_result"
    }
   ],
   "source": [
    "from PIL import Image\n",
    "\n",
    "img = Image.open(\"plane45.tif\")\n",
    "images = []\n",
    "for i in range(img.n_frames):\n",
    "    img.seek(i)\n",
    "    images.append(np.array(img))\n",
    "np.shape(images)"
   ]
  },
  {
   "cell_type": "markdown",
   "metadata": {},
   "source": [
    "**Create an anatomy image and display it**"
   ]
  },
  {
   "cell_type": "code",
   "execution_count": null,
   "metadata": {},
   "outputs": [],
   "source": []
  },
  {
   "cell_type": "markdown",
   "metadata": {},
   "source": [
    "**Now we will use the function** phase_cross_correlation **from ski-image. We want to perform sub-pixel corrections, say to 0.2 of a pixel, so make sure you use the** upsample_factor **argument. Save the shifts in the X and Y directions in two arrays and compute also a total motion array (use pythagoras).**"
   ]
  },
  {
   "cell_type": "code",
   "execution_count": 26,
   "metadata": {},
   "outputs": [],
   "source": [
    "from skimage.registration import phase_cross_correlation\n",
    "import math"
   ]
  },
  {
   "cell_type": "code",
   "execution_count": 20,
   "metadata": {},
   "outputs": [],
   "source": []
  },
  {
   "cell_type": "markdown",
   "metadata": {},
   "source": [
    "**Plot the total motion of each frame. Do you think the motion arises from continuous drifts or acute motor events?**"
   ]
  },
  {
   "cell_type": "code",
   "execution_count": null,
   "metadata": {},
   "outputs": [],
   "source": []
  },
  {
   "cell_type": "markdown",
   "metadata": {},
   "source": [
    "### Second order correction of motion artifact\n",
    "**Correct the individual frames by performing an individual sub-pixel alignment frame by frame. Use this new corrected stack to generate a new anatomy. Align THE ORIGINAL FRAMES to this new anatomy. Save this new \"motion distance array\" as a csv file (which should have 1750 entries) and submit it and the plot. Submit also an image with the three anatomies: the one before any motion correction, the one after one round of motion correction and the one after two rounds of motion correction.**"
   ]
  },
  {
   "cell_type": "code",
   "execution_count": null,
   "metadata": {},
   "outputs": [],
   "source": [
    "\n"
   ]
  },
  {
   "cell_type": "markdown",
   "metadata": {},
   "source": [
    "## Extra - non-uniform alignment\n",
    "**Load the images *image1.png* and *image2.png*.**"
   ]
  },
  {
   "cell_type": "code",
   "execution_count": 27,
   "metadata": {},
   "outputs": [
    {
     "data": {
      "application/vnd.jupyter.widget-view+json": {
       "model_id": "3efe368c172b43a6bb152c5fca85c05c",
       "version_major": 2,
       "version_minor": 0
      },
      "text/plain": [
       "Canvas(toolbar=Toolbar(toolitems=[('Home', 'Reset original view', 'home', 'home'), ('Back', 'Back to previous …"
      ]
     },
     "metadata": {},
     "output_type": "display_data"
    },
    {
     "data": {
      "text/plain": [
       "<matplotlib.image.AxesImage at 0x1acac1d7a08>"
      ]
     },
     "execution_count": 27,
     "metadata": {},
     "output_type": "execute_result"
    }
   ],
   "source": [
    "import imageio\n",
    "\n",
    "old_plane = imageio.imread('image1.png')\n",
    "new_plane = imageio.imread('image2.png')\n",
    "plt.figure()\n",
    "plt.subplot(131)\n",
    "plt.imshow(old_plane)\n",
    "plt.subplot(132)\n",
    "plt.imshow(new_plane)"
   ]
  },
  {
   "cell_type": "markdown",
   "metadata": {},
   "source": [
    "**Image2 is obtained from image1 by a non-uniform translation. Split the image into subimages, say 20 by 20 pixels, and align the subimages from image2 to the subimages of image1. Plot the shift of each subimage as a vector field, where the vectors are arrows that emmerge from the center of the subimage (if an image is 100 x 100 pixels there will be 25 subimages and 25 vectors at (10,10), (10,30), etc ...). Save the image of the vector field and submit it.\n",
    "How do you think image2 was obtained from image1?**"
   ]
  },
  {
   "cell_type": "code",
   "execution_count": null,
   "metadata": {},
   "outputs": [],
   "source": []
  }
 ],
 "metadata": {
  "kernelspec": {
   "display_name": "Python 3",
   "language": "python",
   "name": "python3"
  },
  "language_info": {
   "codemirror_mode": {
    "name": "ipython",
    "version": 3
   },
   "file_extension": ".py",
   "mimetype": "text/x-python",
   "name": "python",
   "nbconvert_exporter": "python",
   "pygments_lexer": "ipython3",
   "version": "3.7.6"
  }
 },
 "nbformat": 4,
 "nbformat_minor": 4
}
